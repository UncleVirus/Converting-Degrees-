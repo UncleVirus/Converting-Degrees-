{
 "cells": [
  {
   "cell_type": "code",
   "execution_count": 7,
   "metadata": {},
   "outputs": [
    {
     "name": "stdout",
     "output_type": "stream",
     "text": [
      "a = 3.14159\n",
      "a = 3\n",
      "<class 'int'>\n",
      "a = 3.0\n",
      "<class 'float'>\n",
      "a = 3.0\n",
      "<class 'str'>\n",
      "a = 3.0\n",
      "<class 'float'>\n",
      "a = 3.0\n",
      "<class 'str'>\n",
      "a = 3\n",
      "<class 'int'>\n"
     ]
    }
   ],
   "source": [
    "a = 3.14159\n",
    "print('a =',a)\n",
    "a = int(a)\n",
    "print('a =',a)\n",
    "print(type(a))\n",
    "a = float(a)\n",
    "print('a =',a)\n",
    "print(type(a))\n",
    "a = str(a)\n",
    "print('a =',a)\n",
    "print(type(a))\n",
    "a = float(a)\n",
    "print('a =',a)\n",
    "print(type(a))\n",
    "a = str(a)\n",
    "print('a =',a)\n",
    "print(type(a))\n",
    "a = int(float(a))\n",
    "print('a =',a)\n",
    "print(type(a))"
   ]
  },
  {
   "cell_type": "code",
   "execution_count": null,
   "metadata": {
    "collapsed": true
   },
   "outputs": [],
   "source": []
  }
 ],
 "metadata": {
  "kernelspec": {
   "display_name": "Python 3",
   "language": "python",
   "name": "python3"
  },
  "language_info": {
   "codemirror_mode": {
    "name": "ipython",
    "version": 3
   },
   "file_extension": ".py",
   "mimetype": "text/x-python",
   "name": "python",
   "nbconvert_exporter": "python",
   "pygments_lexer": "ipython3",
   "version": "3.6.3"
  }
 },
 "nbformat": 4,
 "nbformat_minor": 2
}
